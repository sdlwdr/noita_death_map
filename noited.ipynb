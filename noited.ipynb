{
 "cells": [
  {
   "cell_type": "code",
   "execution_count": null,
   "metadata": {},
   "outputs": [],
   "source": [
    "# Settings\n",
    "\n",
    "username = \"sdlwdr\" # Change this to your windows username\n",
    "\n",
    "palette_options = [\"viridis\", \"plasma\", \"inferno\", \"magma\", \"cividis\"]\n",
    "palette_selection = 1 # Set 0-4 to choose from the list above\n",
    "\n",
    "hue_options = ['Index', 'Timestamp', 'Kills', 'Playtime', 'Gold', 'HP']\n",
    "hue_selection = 0 # Set 0-5 to choose from the list above\n",
    "\n",
    "log_scale = False # Use a logarithmic scale for the colorbar\n",
    "\n",
    "fig_width = 32\n",
    "fig_height = 16\n",
    "\n",
    "dot_size=5\n",
    "dot_alpha = 0.1"
   ]
  },
  {
   "cell_type": "code",
   "execution_count": null,
   "metadata": {},
   "outputs": [],
   "source": [
    "# Imports\n",
    "\n",
    "import datetime\n",
    "import os\n",
    "\n",
    "import xml.etree.ElementTree as ET\n",
    "\n",
    "import matplotlib\n",
    "from matplotlib import pyplot as plt\n",
    "import numpy as np\n",
    "import pandas as pd\n",
    "import seaborn as sns"
   ]
  },
  {
   "cell_type": "code",
   "execution_count": null,
   "metadata": {},
   "outputs": [],
   "source": [
    "sns.set_theme(rc={'figure.figsize':(fig_width,fig_height)})\n",
    "sns.set_style(\"whitegrid\", {'axes.grid' : False})"
   ]
  },
  {
   "cell_type": "code",
   "execution_count": null,
   "metadata": {},
   "outputs": [],
   "source": [
    "session_dir = f\"c:\\\\Users\\\\{username}\\\\AppData\\\\LocalLow\\\\Nolla_Games_Noita\\\\save00\\\\stats\\\\sessions\"\n",
    "sessions = os.listdir(session_dir)\n",
    "sessions = [i for i in sessions if i.endswith('_stats.xml')]"
   ]
  },
  {
   "cell_type": "code",
   "execution_count": null,
   "metadata": {},
   "outputs": [],
   "source": [
    "data = []\n",
    "index = 0\n",
    "for session in sessions:\n",
    "    path = f\"{session_dir}\\\\{session}\"\n",
    "    timestamp = pd.Timestamp(session.split('_')[0])\n",
    "    tree = ET.parse(path)\n",
    "    root = tree.getroot()\n",
    "    for child in root.findall('stats'):\n",
    "        pos_x = float(child.attrib.get('death_pos.x'))\n",
    "        pos_y = float(child.attrib.get('death_pos.y'))\n",
    "        kills = float(child.attrib.get('enemies_killed'))\n",
    "        playtime = float(child.attrib.get('playtime'))\n",
    "        gold = float(child.attrib.get('gold_all'))\n",
    "        hp = float(child.attrib.get('hp'))\n",
    "        data.append([index, timestamp, pos_x, pos_y, kills, playtime, gold, hp])\n",
    "    index += 1\n",
    "df = pd.DataFrame(data, columns = ['Index', 'Timestamp', 'X', 'Y', 'Kills', 'Playtime', 'Gold', 'HP']) "
   ]
  },
  {
   "cell_type": "code",
   "execution_count": null,
   "metadata": {},
   "outputs": [],
   "source": [
    "hue = hue_options[hue_selection]\n",
    "palette = palette_options[palette_selection]\n",
    "\n",
    "if log_scale:\n",
    "    points = plt.scatter(df['X'],df['Y'], c=df[hue], s=dot_size, cmap=palette, norm=matplotlib.colors.LogNorm())\n",
    "else:\n",
    "    points = plt.scatter(df['X'],df['Y'], c=df[hue], s=dot_size, cmap=palette)\n",
    "plt.colorbar(points)\n",
    "ax = sns.regplot(data=df, x=\"X\", y=\"Y\",  scatter=False, color=\".1\", scatter_kws={'alpha':dot_alpha}, fit_reg=False)\n",
    "plt.gca().invert_yaxis()\n",
    "img = plt.imread(\"map.png\")\n",
    "ax.imshow(img, extent=[-53760, 53759, 41983, -31744])"
   ]
  }
 ],
 "metadata": {
  "kernelspec": {
   "display_name": ".venv",
   "language": "python",
   "name": "python3"
  },
  "language_info": {
   "codemirror_mode": {
    "name": "ipython",
    "version": 3
   },
   "file_extension": ".py",
   "mimetype": "text/x-python",
   "name": "python",
   "nbconvert_exporter": "python",
   "pygments_lexer": "ipython3",
   "version": "3.11.9"
  }
 },
 "nbformat": 4,
 "nbformat_minor": 2
}

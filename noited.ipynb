{
 "cells": [
  {
   "cell_type": "code",
   "execution_count": null,
   "metadata": {},
   "outputs": [],
   "source": [
    "username = \"sdlwdr\" # Change this to your windows username\n",
    "palettes = [\"viridis\", \"plasma\", \"inferno\", \"magma\", \"cividis\"]\n",
    "palette = palettes[0] # Set 0-4 to choose from the list above\n",
    "time_indexed = False # Color by timestamp instead of order\n",
    "fig_width = 16\n",
    "fig_height = 8"
   ]
  },
  {
   "cell_type": "code",
   "execution_count": null,
   "metadata": {},
   "outputs": [],
   "source": [
    "import datetime\n",
    "import os\n",
    "\n",
    "import xml.etree.ElementTree as ET\n",
    "\n",
    "from matplotlib import pyplot as plt\n",
    "import numpy as np\n",
    "import pandas as pd\n",
    "import seaborn as sns"
   ]
  },
  {
   "cell_type": "code",
   "execution_count": null,
   "metadata": {},
   "outputs": [],
   "source": [
    "sns.set_theme(rc={'figure.figsize':(fig_width,fig_height)})\n",
    "sns.set_style(\"whitegrid\", {'axes.grid' : False})"
   ]
  },
  {
   "cell_type": "code",
   "execution_count": null,
   "metadata": {},
   "outputs": [],
   "source": [
    "session_dir = f\"c:\\\\Users\\\\{username}\\\\AppData\\\\LocalLow\\\\Nolla_Games_Noita\\\\save00\\\\stats\\\\sessions\"\n",
    "sessions = os.listdir(session_dir)\n",
    "sessions = [i for i in sessions if i.endswith('_stats.xml')]"
   ]
  },
  {
   "cell_type": "code",
   "execution_count": null,
   "metadata": {},
   "outputs": [],
   "source": [
    "data = []\n",
    "index = 0\n",
    "for session in sessions:\n",
    "    path = f\"{session_dir}\\\\{session}\"\n",
    "    timestamp = pd.Timestamp(session.split('_')[0])\n",
    "    tree = ET.parse(path)\n",
    "    root = tree.getroot()\n",
    "    for child in root.findall('stats'):\n",
    "        pos_x = float(child.attrib.get('death_pos.x'))\n",
    "        pos_y = float(child.attrib.get('death_pos.y'))\n",
    "        data.append([index, timestamp, pos_x, pos_y])\n",
    "    index += 1\n",
    "df = pd.DataFrame(data, columns = ['Index', 'Timestamp', 'X', 'Y']) "
   ]
  },
  {
   "cell_type": "code",
   "execution_count": null,
   "metadata": {},
   "outputs": [],
   "source": [
    "hue = 'Index'\n",
    "if time_indexed:\n",
    "    hue = 'Timestamp'\n",
    "\n",
    "points = plt.scatter(df['X'],df['Y'],\n",
    "                     c=df[hue], s=1, cmap=palette)\n",
    "plt.colorbar(points)\n",
    "ax = sns.regplot(data=df, x=\"X\", y=\"Y\",  scatter=False, color=\".1\", scatter_kws={'alpha':1}, fit_reg=False)\n",
    "plt.gca().invert_yaxis()\n",
    "img = plt.imread(\"map.png\")\n",
    "ax.imshow(img, extent=[-53760, 53759, 41983, -31744])"
   ]
  }
 ],
 "metadata": {
  "kernelspec": {
   "display_name": ".venv",
   "language": "python",
   "name": "python3"
  },
  "language_info": {
   "codemirror_mode": {
    "name": "ipython",
    "version": 3
   },
   "file_extension": ".py",
   "mimetype": "text/x-python",
   "name": "python",
   "nbconvert_exporter": "python",
   "pygments_lexer": "ipython3",
   "version": "3.11.9"
  }
 },
 "nbformat": 4,
 "nbformat_minor": 2
}
